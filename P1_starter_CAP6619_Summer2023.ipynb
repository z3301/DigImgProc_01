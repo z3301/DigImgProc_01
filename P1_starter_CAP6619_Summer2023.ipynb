{
  "nbformat": 4,
  "nbformat_minor": 0,
  "metadata": {
    "kernelspec": {
      "display_name": "Python 3",
      "language": "python",
      "name": "python3"
    },
    "language_info": {
      "codemirror_mode": {
        "name": "ipython",
        "version": 3
      },
      "file_extension": ".py",
      "mimetype": "text/x-python",
      "name": "python",
      "nbconvert_exporter": "python",
      "pygments_lexer": "ipython3",
      "version": "3.6.5"
    },
    "colab": {
      "provenance": [],
      "toc_visible": true,
      "include_colab_link": true
    },
    "accelerator": "GPU"
  },
  "cells": [
    {
      "cell_type": "markdown",
      "metadata": {
        "id": "view-in-github",
        "colab_type": "text"
      },
      "source": [
        "<a href=\"https://colab.research.google.com/github/z3301/DigImgProc_01/blob/main/P1_starter_CAP6619_Summer2023.ipynb\" target=\"_parent\"><img src=\"https://colab.research.google.com/assets/colab-badge.svg\" alt=\"Open In Colab\"/></a>"
      ]
    },
    {
      "cell_type": "markdown",
      "metadata": {
        "id": "Whf_8TEO-6qX"
      },
      "source": [
        "# CAP 6619 - Deep Learning - Dr Marques\n",
        "## Project 1\n",
        "## Image Classifiers Using Neural Networks and the MNIST and Fashion MNIST Datasets"
      ]
    },
    {
      "cell_type": "markdown",
      "source": [
        "**Include your name here:** (enter your name)\n",
        "\n",
        "**Include 'shared link' to 'your' final version of this NB here:** (enter link from above right here)"
      ],
      "metadata": {
        "id": "dOGJOhMgmu4o"
      }
    },
    {
      "cell_type": "markdown",
      "metadata": {
        "id": "32AXUOrLxvoD"
      },
      "source": [
        "Useful references and sources:\n",
        "\n",
        "**MNIST**\n",
        "\n",
        "- https://www.tensorflow.org/datasets/catalog/mnist\n",
        "\n",
        "- https://en.wikipedia.org/wiki/MNIST_database \n",
        "\n",
        "- https://github.com/the-deep-learners/deep-learning-illustrated/blob/master/notebooks/shallow_net_in_keras.ipynb \n",
        "\n",
        "**Fashion MNIST**\n",
        "\n",
        "- https://www.tensorflow.org/datasets/catalog/fashion_mnist\n",
        "\n",
        "- https://en.wikipedia.org/wiki/Fashion_MNIST\n",
        "\n",
        "- https://keras.io/api/datasets/fashion_mnist/"
      ]
    },
    {
      "cell_type": "markdown",
      "metadata": {
        "id": "BEn1cfWJ-6rH"
      },
      "source": [
        "## PART 1 - *MNIST classifier using MLP*\n",
        "\n",
        "\n"
      ]
    },
    {
      "cell_type": "markdown",
      "metadata": {
        "id": "2u-hfaHC-6qb"
      },
      "source": [
        "### Import Needed Resources / Libraries"
      ]
    },
    {
      "cell_type": "code",
      "metadata": {
        "id": "1H7CSr4a-6qb"
      },
      "source": [
        "from tensorflow import keras\n",
        "from keras.datasets import mnist\n",
        "from keras.models import Sequential\n",
        "from keras.layers import Dense\n",
        "from keras.optimizers import SGD\n",
        "\n",
        "from keras import layers\n",
        "\n",
        "from matplotlib import pyplot as plt\n",
        "\n",
        "import numpy as np\n",
        "import tensorflow as tf"
      ],
      "execution_count": null,
      "outputs": []
    },
    {
      "cell_type": "markdown",
      "metadata": {
        "id": "dxNd2jV5-6qg"
      },
      "source": [
        "### Load and prepare the data"
      ]
    },
    {
      "cell_type": "code",
      "metadata": {
        "id": "AL5uSsG5EoEw",
        "colab": {
          "base_uri": "https://localhost:8080/"
        },
        "outputId": "9236dff7-60ca-4abe-d5e0-0b7910abe76b"
      },
      "source": [
        "# Model / data parameters\n",
        "num_classes = 10\n",
        "input_shape = (28, 28, 1)\n",
        "\n",
        "# the data, split between train and validation sets\n",
        "(X_train, y_train), (X_valid, y_valid) = mnist.load_data()"
      ],
      "execution_count": null,
      "outputs": [
        {
          "output_type": "stream",
          "name": "stdout",
          "text": [
            "Downloading data from https://storage.googleapis.com/tensorflow/tf-keras-datasets/mnist.npz\n",
            "11490434/11490434 [==============================] - 2s 0us/step\n"
          ]
        }
      ]
    },
    {
      "cell_type": "markdown",
      "source": [
        "### Examine Data"
      ],
      "metadata": {
        "id": "NUJlQmcuS1-b"
      }
    },
    {
      "cell_type": "code",
      "metadata": {
        "id": "x2jsR31jEqYn",
        "colab": {
          "base_uri": "https://localhost:8080/"
        },
        "outputId": "b0980fe3-1986-4451-fac7-6a5557726648"
      },
      "source": [
        "X_train.shape"
      ],
      "execution_count": null,
      "outputs": [
        {
          "output_type": "execute_result",
          "data": {
            "text/plain": [
              "(60000, 28, 28)"
            ]
          },
          "metadata": {},
          "execution_count": 3
        }
      ]
    },
    {
      "cell_type": "code",
      "metadata": {
        "id": "EOXe9zdD-6qp",
        "colab": {
          "base_uri": "https://localhost:8080/"
        },
        "outputId": "aee0390c-537e-47a0-8d15-e85f63771f87"
      },
      "source": [
        "y_train.shape"
      ],
      "execution_count": null,
      "outputs": [
        {
          "output_type": "execute_result",
          "data": {
            "text/plain": [
              "(60000,)"
            ]
          },
          "metadata": {},
          "execution_count": 4
        }
      ]
    },
    {
      "cell_type": "code",
      "metadata": {
        "id": "99XuEIZf-6qr",
        "colab": {
          "base_uri": "https://localhost:8080/"
        },
        "outputId": "b80866a7-0c8f-4c36-f145-6a53a70df711"
      },
      "source": [
        "y_train[0:12]"
      ],
      "execution_count": null,
      "outputs": [
        {
          "output_type": "execute_result",
          "data": {
            "text/plain": [
              "array([5, 0, 4, 1, 9, 2, 1, 3, 1, 4, 3, 5], dtype=uint8)"
            ]
          },
          "metadata": {},
          "execution_count": 5
        }
      ]
    },
    {
      "cell_type": "code",
      "metadata": {
        "id": "Rcidoo4X-6qt",
        "colab": {
          "base_uri": "https://localhost:8080/",
          "height": 447
        },
        "outputId": "8ad4eabd-70bd-4142-86a1-940dfe37fd2f"
      },
      "source": [
        "plt.figure(figsize=(5,5))\n",
        "for k in range(12):\n",
        "    plt.subplot(3, 4, k+1)\n",
        "    plt.imshow(X_train[k], cmap='Greys')\n",
        "    plt.axis('off')\n",
        "plt.tight_layout()\n",
        "plt.show()"
      ],
      "execution_count": null,
      "outputs": [
        {
          "output_type": "display_data",
          "data": {
            "text/plain": [
              "<Figure size 500x500 with 12 Axes>"
            ],
            "image/png": "[encoded data removed]"
          },
          "metadata": {}
        }
      ]
    },
    {
      "cell_type": "code",
      "metadata": {
        "id": "xL2vkR3jO2md",
        "colab": {
          "base_uri": "https://localhost:8080/"
        },
        "outputId": "3a3edf7b-dd99-4eea-c937-0d06ff64578e"
      },
      "source": [
        "X_valid.shape"
      ],
      "execution_count": null,
      "outputs": [
        {
          "output_type": "execute_result",
          "data": {
            "text/plain": [
              "(10000, 28, 28)"
            ]
          },
          "metadata": {},
          "execution_count": 7
        }
      ]
    },
    {
      "cell_type": "code",
      "metadata": {
        "id": "GKtAwVhYO34o",
        "colab": {
          "base_uri": "https://localhost:8080/"
        },
        "outputId": "59010fe0-308d-400b-fdf5-f5462706c229"
      },
      "source": [
        "y_valid.shape"
      ],
      "execution_count": null,
      "outputs": [
        {
          "output_type": "execute_result",
          "data": {
            "text/plain": [
              "(10000,)"
            ]
          },
          "metadata": {},
          "execution_count": 8
        }
      ]
    },
    {
      "cell_type": "code",
      "metadata": {
        "id": "rITLTiol7eZH",
        "colab": {
          "base_uri": "https://localhost:8080/"
        },
        "outputId": "013784c7-1c14-4b69-9da7-7db29e666dba"
      },
      "source": [
        "y_valid[0]"
      ],
      "execution_count": null,
      "outputs": [
        {
          "output_type": "execute_result",
          "data": {
            "text/plain": [
              "7"
            ]
          },
          "metadata": {},
          "execution_count": 9
        }
      ]
    },
    {
      "cell_type": "code",
      "metadata": {
        "id": "v7wsvxTt7iZO",
        "colab": {
          "base_uri": "https://localhost:8080/",
          "height": 406
        },
        "outputId": "07fee4bf-06ec-4599-de4e-a430c6e0993b"
      },
      "source": [
        "plt.imshow(X_valid[0], cmap='Greys')\n",
        "plt.axis('off')\n",
        "plt.show()"
      ],
      "execution_count": null,
      "outputs": [
        {
          "output_type": "display_data",
          "data": {
            "text/plain": [
              "<Figure size 640x480 with 1 Axes>"
            ],
            "image/png": "[encoded data removed]"
          },
          "metadata": {}
        }
      ]
    },
    {
      "cell_type": "code",
      "metadata": {
        "id": "lKSraXzh-6qw",
        "colab": {
          "base_uri": "https://localhost:8080/"
        },
        "outputId": "301b9a51-3fac-4493-a1f2-0658e4412a61"
      },
      "source": [
        "# Reshape (flatten) images \n",
        "X_train_reshaped = X_train.reshape(60000, 784).astype('float32')\n",
        "X_valid_reshaped = X_valid.reshape(10000, 784).astype('float32')\n",
        "\n",
        "# Scale images to the [0, 1] range\n",
        "X_train_scaled_reshaped = X_train_reshaped / 255\n",
        "X_valid_scaled_reshaped = X_valid_reshaped / 255\n",
        "\n",
        "# Renaming for conciseness\n",
        "X_training = X_train_scaled_reshaped\n",
        "X_validation = X_valid_scaled_reshaped\n",
        "\n",
        "print(\"X_training shape (after reshaping + scaling):\", X_training.shape)\n",
        "print(X_training.shape[0], \"train samples\")\n",
        "print(\"X_validation shape (after reshaping + scaling):\", X_validation.shape)\n",
        "print(X_validation.shape[0], \"validation samples\")"
      ],
      "execution_count": null,
      "outputs": [
        {
          "output_type": "stream",
          "name": "stdout",
          "text": [
            "X_training shape (after reshaping + scaling): (60000, 784)\n",
            "60000 train samples\n",
            "X_validation shape (after reshaping + scaling): (10000, 784)\n",
            "10000 validation samples\n"
          ]
        }
      ]
    },
    {
      "cell_type": "code",
      "metadata": {
        "id": "amUBlLnG-6qz"
      },
      "source": [
        "# convert class vectors to binary class matrices\n",
        "y_training = keras.utils.to_categorical(y_train, num_classes)\n",
        "y_validation = keras.utils.to_categorical(y_valid, num_classes)"
      ],
      "execution_count": null,
      "outputs": []
    },
    {
      "cell_type": "code",
      "metadata": {
        "id": "QRX6auItPqtX",
        "colab": {
          "base_uri": "https://localhost:8080/"
        },
        "outputId": "7b97e237-4b09-453c-8bb4-edb03ff49806"
      },
      "source": [
        "print(y_valid[0])\n",
        "print(y_validation[0])"
      ],
      "execution_count": null,
      "outputs": [
        {
          "output_type": "stream",
          "name": "stdout",
          "text": [
            "7\n",
            "[0. 0. 0. 0. 0. 0. 0. 1. 0. 0.]\n"
          ]
        }
      ]
    },
    {
      "cell_type": "markdown",
      "metadata": {
        "id": "eflqPyf9-6rW"
      },
      "source": [
        "### Configure model"
      ]
    },
    {
      "cell_type": "code",
      "metadata": {
        "id": "r7CsGuzIKvZd"
      },
      "source": [
        "model = Sequential()\n",
        "model.add(Dense(64, activation='sigmoid', input_shape=(784,)))\n",
        "model.add(Dense(10, activation='softmax'))"
      ],
      "execution_count": null,
      "outputs": []
    },
    {
      "cell_type": "code",
      "metadata": {
        "id": "wQTQzXvJ-6rJ",
        "colab": {
          "base_uri": "https://localhost:8080/"
        },
        "outputId": "39882b9f-6953-4366-a075-afb211c83aa9"
      },
      "source": [
        "model.summary()"
      ],
      "execution_count": null,
      "outputs": [
        {
          "output_type": "stream",
          "name": "stdout",
          "text": [
            "Model: \"sequential\"\n",
            "_________________________________________________________________\n",
            " Layer (type)                Output Shape              Param #   \n",
            "=================================================================\n",
            " dense (Dense)               (None, 64)                50240     \n",
            "                                                                 \n",
            " dense_1 (Dense)             (None, 10)                650       \n",
            "                                                                 \n",
            "=================================================================\n",
            "Total params: 50,890\n",
            "Trainable params: 50,890\n",
            "Non-trainable params: 0\n",
            "_________________________________________________________________\n"
          ]
        }
      ]
    },
    {
      "cell_type": "code",
      "metadata": {
        "id": "p0KPx8Di-6rO",
        "colab": {
          "base_uri": "https://localhost:8080/"
        },
        "outputId": "5ba73ff0-f70b-4f61-dcbc-cc5370d63dce"
      },
      "source": [
        "(64*784)"
      ],
      "execution_count": null,
      "outputs": [
        {
          "output_type": "execute_result",
          "data": {
            "text/plain": [
              "50176"
            ]
          },
          "metadata": {},
          "execution_count": 16
        }
      ]
    },
    {
      "cell_type": "code",
      "metadata": {
        "id": "e7KDBMCS-6rQ",
        "colab": {
          "base_uri": "https://localhost:8080/"
        },
        "outputId": "84bd266c-a706-4bab-c27c-3ba53bddf23c"
      },
      "source": [
        "(64*784)+64"
      ],
      "execution_count": null,
      "outputs": [
        {
          "output_type": "execute_result",
          "data": {
            "text/plain": [
              "50240"
            ]
          },
          "metadata": {},
          "execution_count": 17
        }
      ]
    },
    {
      "cell_type": "code",
      "metadata": {
        "id": "ls_u6Lne-6rU",
        "colab": {
          "base_uri": "https://localhost:8080/"
        },
        "outputId": "bd359fd4-a451-4466-d46b-bd4a9dd9b6eb"
      },
      "source": [
        "(10*64)+10"
      ],
      "execution_count": null,
      "outputs": [
        {
          "output_type": "execute_result",
          "data": {
            "text/plain": [
              "650"
            ]
          },
          "metadata": {},
          "execution_count": 18
        }
      ]
    },
    {
      "cell_type": "code",
      "metadata": {
        "id": "ZxAxL41M-6rX"
      },
      "source": [
        "model.compile(\n",
        "    loss='mean_squared_error', \n",
        "    optimizer=SGD(learning_rate=0.01), \n",
        "    metrics=['accuracy']\n",
        ")"
      ],
      "execution_count": null,
      "outputs": []
    },
    {
      "cell_type": "markdown",
      "metadata": {
        "id": "DId95CJ_-6rY"
      },
      "source": [
        "### Train!"
      ]
    },
    {
      "cell_type": "code",
      "metadata": {
        "id": "OGws4yu8-6rZ",
        "colab": {
          "base_uri": "https://localhost:8080/"
        },
        "outputId": "f0f4851a-385f-47aa-e87e-9b3491d72f7e"
      },
      "source": [
        "batch_size=128\n",
        "epochs=200\n",
        "\n",
        "history = model.fit(\n",
        "  X_training, # training data\n",
        "  y_training, # training targets\n",
        "  epochs=epochs,\n",
        "  batch_size=batch_size,\n",
        "  verbose=1,\n",
        "  validation_data=(X_validation, y_validation)\n",
        ")"
      ],
      "execution_count": null,
      "outputs": [
        {
          "output_type": "stream",
          "name": "stdout",
          "text": [
            "Epoch 1/200\n",
            "469/469 [==============================] - 7s 6ms/step - loss: 0.0910 - accuracy: 0.0884 - val_loss: 0.0907 - val_accuracy: 0.0975\n",
            "Epoch 2/200\n",
            "469/469 [==============================] - 3s 6ms/step - loss: 0.0907 - accuracy: 0.0951 - val_loss: 0.0904 - val_accuracy: 0.1080\n",
            "Epoch 3/200\n",
            "469/469 [==============================] - 4s 8ms/step - loss: 0.0904 - accuracy: 0.1067 - val_loss: 0.0901 - val_accuracy: 0.1279\n",
            "Epoch 4/200\n",
            "469/469 [==============================] - 3s 6ms/step - loss: 0.0901 - accuracy: 0.1283 - val_loss: 0.0898 - val_accuracy: 0.1609\n",
            "Epoch 5/200\n",
            "469/469 [==============================] - 3s 5ms/step - loss: 0.0898 - accuracy: 0.1583 - val_loss: 0.0895 - val_accuracy: 0.1906\n",
            "Epoch 6/200\n",
            "469/469 [==============================] - 2s 3ms/step - loss: 0.0895 - accuracy: 0.1857 - val_loss: 0.0892 - val_accuracy: 0.2128\n",
            "Epoch 7/200\n",
            "469/469 [==============================] - 2s 3ms/step - loss: 0.0892 - accuracy: 0.2106 - val_loss: 0.0890 - val_accuracy: 0.2366\n",
            "Epoch 8/200\n",
            "469/469 [==============================] - 2s 3ms/step - loss: 0.0890 - accuracy: 0.2330 - val_loss: 0.0887 - val_accuracy: 0.2578\n",
            "Epoch 9/200\n",
            "469/469 [==============================] - 2s 4ms/step - loss: 0.0887 - accuracy: 0.2539 - val_loss: 0.0884 - val_accuracy: 0.2792\n",
            "Epoch 10/200\n",
            "469/469 [==============================] - 2s 4ms/step - loss: 0.0884 - accuracy: 0.2740 - val_loss: 0.0881 - val_accuracy: 0.2971\n",
            "Epoch 11/200\n",
            "469/469 [==============================] - 2s 3ms/step - loss: 0.0881 - accuracy: 0.2920 - val_loss: 0.0878 - val_accuracy: 0.3164\n",
            "Epoch 12/200\n",
            "469/469 [==============================] - 2s 4ms/step - loss: 0.0878 - accuracy: 0.3074 - val_loss: 0.0875 - val_accuracy: 0.3322\n",
            "Epoch 13/200\n",
            "469/469 [==============================] - 2s 4ms/step - loss: 0.0875 - accuracy: 0.3205 - val_loss: 0.0872 - val_accuracy: 0.3446\n",
            "Epoch 14/200\n",
            "469/469 [==============================] - 2s 3ms/step - loss: 0.0872 - accuracy: 0.3310 - val_loss: 0.0869 - val_accuracy: 0.3572\n",
            "Epoch 15/200\n",
            "469/469 [==============================] - 2s 3ms/step - loss: 0.0869 - accuracy: 0.3403 - val_loss: 0.0866 - val_accuracy: 0.3652\n",
            "Epoch 16/200\n",
            "469/469 [==============================] - 2s 4ms/step - loss: 0.0866 - accuracy: 0.3477 - val_loss: 0.0863 - val_accuracy: 0.3726\n",
            "Epoch 17/200\n",
            "469/469 [==============================] - 2s 4ms/step - loss: 0.0863 - accuracy: 0.3530 - val_loss: 0.0860 - val_accuracy: 0.3773\n",
            "Epoch 18/200\n",
            "469/469 [==============================] - 2s 3ms/step - loss: 0.0860 - accuracy: 0.3597 - val_loss: 0.0856 - val_accuracy: 0.3819\n",
            "Epoch 19/200\n",
            "469/469 [==============================] - 2s 3ms/step - loss: 0.0856 - accuracy: 0.3646 - val_loss: 0.0853 - val_accuracy: 0.3868\n",
            "Epoch 20/200\n",
            "469/469 [==============================] - 1s 3ms/step - loss: 0.0853 - accuracy: 0.3683 - val_loss: 0.0849 - val_accuracy: 0.3895\n",
            "Epoch 21/200\n",
            "469/469 [==============================] - 2s 3ms/step - loss: 0.0849 - accuracy: 0.3733 - val_loss: 0.0845 - val_accuracy: 0.3936\n",
            "Epoch 22/200\n",
            "469/469 [==============================] - 1s 3ms/step - loss: 0.0846 - accuracy: 0.3769 - val_loss: 0.0842 - val_accuracy: 0.3969\n",
            "Epoch 23/200\n",
            "469/469 [==============================] - 2s 3ms/step - loss: 0.0842 - accuracy: 0.3785 - val_loss: 0.0838 - val_accuracy: 0.3997\n",
            "Epoch 24/200\n",
            "469/469 [==============================] - 2s 4ms/step - loss: 0.0838 - accuracy: 0.3841 - val_loss: 0.0834 - val_accuracy: 0.4032\n",
            "Epoch 25/200\n",
            "469/469 [==============================] - 2s 4ms/step - loss: 0.0834 - accuracy: 0.3872 - val_loss: 0.0830 - val_accuracy: 0.4062\n",
            "Epoch 26/200\n",
            "469/469 [==============================] - 2s 3ms/step - loss: 0.0830 - accuracy: 0.3910 - val_loss: 0.0826 - val_accuracy: 0.4101\n",
            "Epoch 27/200\n",
            "469/469 [==============================] - 2s 4ms/step - loss: 0.0826 - accuracy: 0.3956 - val_loss: 0.0821 - val_accuracy: 0.4147\n",
            "Epoch 28/200\n",
            "469/469 [==============================] - 1s 3ms/step - loss: 0.0822 - accuracy: 0.4015 - val_loss: 0.0817 - val_accuracy: 0.4223\n",
            "Epoch 29/200\n",
            "469/469 [==============================] - 1s 3ms/step - loss: 0.0818 - accuracy: 0.4067 - val_loss: 0.0813 - val_accuracy: 0.4283\n",
            "Epoch 30/200\n",
            "469/469 [==============================] - 1s 3ms/step - loss: 0.0813 - accuracy: 0.4132 - val_loss: 0.0808 - val_accuracy: 0.4333\n",
            "Epoch 31/200\n",
            "469/469 [==============================] - 2s 3ms/step - loss: 0.0809 - accuracy: 0.4193 - val_loss: 0.0804 - val_accuracy: 0.4405\n",
            "Epoch 32/200\n",
            "469/469 [==============================] - 2s 4ms/step - loss: 0.0804 - accuracy: 0.4257 - val_loss: 0.0799 - val_accuracy: 0.4491\n",
            "Epoch 33/200\n",
            "469/469 [==============================] - 2s 4ms/step - loss: 0.0800 - accuracy: 0.4341 - val_loss: 0.0795 - val_accuracy: 0.4574\n",
            "Epoch 34/200\n",
            "469/469 [==============================] - 2s 3ms/step - loss: 0.0795 - accuracy: 0.4427 - val_loss: 0.0790 - val_accuracy: 0.4671\n",
            "Epoch 35/200\n",
            "469/469 [==============================] - 1s 3ms/step - loss: 0.0791 - accuracy: 0.4513 - val_loss: 0.0785 - val_accuracy: 0.4753\n",
            "Epoch 36/200\n",
            "469/469 [==============================] - 2s 4ms/step - loss: 0.0786 - accuracy: 0.4602 - val_loss: 0.0780 - val_accuracy: 0.4846\n",
            "Epoch 37/200\n",
            "469/469 [==============================] - 1s 3ms/step - loss: 0.0781 - accuracy: 0.4686 - val_loss: 0.0776 - val_accuracy: 0.4935\n",
            "Epoch 38/200\n",
            "469/469 [==============================] - 2s 4ms/step - loss: 0.0777 - accuracy: 0.4779 - val_loss: 0.0771 - val_accuracy: 0.5029\n",
            "Epoch 39/200\n",
            "469/469 [==============================] - 2s 4ms/step - loss: 0.0772 - accuracy: 0.4877 - val_loss: 0.0766 - val_accuracy: 0.5124\n",
            "Epoch 40/200\n",
            "469/469 [==============================] - 2s 4ms/step - loss: 0.0767 - accuracy: 0.4972 - val_loss: 0.0761 - val_accuracy: 0.5218\n",
            "Epoch 41/200\n",
            "469/469 [==============================] - 1s 3ms/step - loss: 0.0762 - accuracy: 0.5084 - val_loss: 0.0756 - val_accuracy: 0.5312\n",
            "Epoch 42/200\n",
            "469/469 [==============================] - 1s 3ms/step - loss: 0.0758 - accuracy: 0.5188 - val_loss: 0.0751 - val_accuracy: 0.5402\n",
            "Epoch 43/200\n",
            "469/469 [==============================] - 2s 3ms/step - loss: 0.0753 - accuracy: 0.5281 - val_loss: 0.0746 - val_accuracy: 0.5482\n",
            "Epoch 44/200\n",
            "469/469 [==============================] - 2s 4ms/step - loss: 0.0748 - accuracy: 0.5367 - val_loss: 0.0741 - val_accuracy: 0.5571\n",
            "Epoch 45/200\n",
            "469/469 [==============================] - 2s 4ms/step - loss: 0.0743 - accuracy: 0.5472 - val_loss: 0.0737 - val_accuracy: 0.5648\n",
            "Epoch 46/200\n",
            "469/469 [==============================] - 1s 3ms/step - loss: 0.0738 - accuracy: 0.5566 - val_loss: 0.0732 - val_accuracy: 0.5737\n",
            "Epoch 47/200\n",
            "469/469 [==============================] - 2s 5ms/step - loss: 0.0734 - accuracy: 0.5656 - val_loss: 0.0727 - val_accuracy: 0.5821\n",
            "Epoch 48/200\n",
            "469/469 [==============================] - 2s 3ms/step - loss: 0.0729 - accuracy: 0.5735 - val_loss: 0.0722 - val_accuracy: 0.5921\n",
            "Epoch 49/200\n",
            "469/469 [==============================] - 2s 4ms/step - loss: 0.0724 - accuracy: 0.5810 - val_loss: 0.0717 - val_accuracy: 0.5975\n",
            "Epoch 50/200\n",
            "469/469 [==============================] - 2s 4ms/step - loss: 0.0719 - accuracy: 0.5890 - val_loss: 0.0712 - val_accuracy: 0.6042\n",
            "Epoch 51/200\n",
            "469/469 [==============================] - 2s 4ms/step - loss: 0.0714 - accuracy: 0.5962 - val_loss: 0.0707 - val_accuracy: 0.6099\n",
            "Epoch 52/200\n",
            "469/469 [==============================] - 2s 3ms/step - loss: 0.0709 - accuracy: 0.6025 - val_loss: 0.0702 - val_accuracy: 0.6144\n",
            "Epoch 53/200\n",
            "469/469 [==============================] - 2s 3ms/step - loss: 0.0704 - accuracy: 0.6093 - val_loss: 0.0697 - val_accuracy: 0.6201\n",
            "Epoch 54/200\n",
            "469/469 [==============================] - 2s 4ms/step - loss: 0.0699 - accuracy: 0.6147 - val_loss: 0.0692 - val_accuracy: 0.6264\n",
            "Epoch 55/200\n",
            "469/469 [==============================] - 2s 4ms/step - loss: 0.0695 - accuracy: 0.6204 - val_loss: 0.0687 - val_accuracy: 0.6309\n",
            "Epoch 56/200\n",
            "469/469 [==============================] - 2s 3ms/step - loss: 0.0690 - accuracy: 0.6255 - val_loss: 0.0682 - val_accuracy: 0.6376\n",
            "Epoch 57/200\n",
            "469/469 [==============================] - 2s 3ms/step - loss: 0.0685 - accuracy: 0.6303 - val_loss: 0.0677 - val_accuracy: 0.6414\n",
            "Epoch 58/200\n",
            "469/469 [==============================] - 2s 4ms/step - loss: 0.0680 - accuracy: 0.6345 - val_loss: 0.0672 - val_accuracy: 0.6455\n",
            "Epoch 59/200\n",
            "469/469 [==============================] - 2s 3ms/step - loss: 0.0675 - accuracy: 0.6388 - val_loss: 0.0667 - val_accuracy: 0.6491\n",
            "Epoch 60/200\n",
            "469/469 [==============================] - 2s 4ms/step - loss: 0.0670 - accuracy: 0.6425 - val_loss: 0.0662 - val_accuracy: 0.6538\n",
            "Epoch 61/200\n",
            "469/469 [==============================] - 2s 3ms/step - loss: 0.0665 - accuracy: 0.6461 - val_loss: 0.0657 - val_accuracy: 0.6573\n",
            "Epoch 62/200\n",
            "469/469 [==============================] - 2s 5ms/step - loss: 0.0660 - accuracy: 0.6506 - val_loss: 0.0652 - val_accuracy: 0.6601\n",
            "Epoch 63/200\n",
            "469/469 [==============================] - 2s 4ms/step - loss: 0.0655 - accuracy: 0.6539 - val_loss: 0.0647 - val_accuracy: 0.6631\n",
            "Epoch 64/200\n",
            "469/469 [==============================] - 1s 3ms/step - loss: 0.0651 - accuracy: 0.6573 - val_loss: 0.0642 - val_accuracy: 0.6672\n",
            "Epoch 65/200\n",
            "469/469 [==============================] - 2s 3ms/step - loss: 0.0646 - accuracy: 0.6603 - val_loss: 0.0637 - val_accuracy: 0.6693\n",
            "Epoch 66/200\n",
            "469/469 [==============================] - 2s 4ms/step - loss: 0.0641 - accuracy: 0.6626 - val_loss: 0.0632 - val_accuracy: 0.6734\n",
            "Epoch 67/200\n",
            "469/469 [==============================] - 2s 3ms/step - loss: 0.0636 - accuracy: 0.6651 - val_loss: 0.0627 - val_accuracy: 0.6758\n",
            "Epoch 68/200\n",
            "469/469 [==============================] - 1s 3ms/step - loss: 0.0631 - accuracy: 0.6676 - val_loss: 0.0622 - val_accuracy: 0.6778\n",
            "Epoch 69/200\n",
            "469/469 [==============================] - 2s 4ms/step - loss: 0.0626 - accuracy: 0.6709 - val_loss: 0.0618 - val_accuracy: 0.6800\n",
            "Epoch 70/200\n",
            "469/469 [==============================] - 2s 4ms/step - loss: 0.0621 - accuracy: 0.6737 - val_loss: 0.0613 - val_accuracy: 0.6825\n",
            "Epoch 71/200\n",
            "469/469 [==============================] - 2s 3ms/step - loss: 0.0616 - accuracy: 0.6761 - val_loss: 0.0608 - val_accuracy: 0.6846\n",
            "Epoch 72/200\n",
            "469/469 [==============================] - 2s 4ms/step - loss: 0.0612 - accuracy: 0.6791 - val_loss: 0.0603 - val_accuracy: 0.6881\n",
            "Epoch 73/200\n",
            "469/469 [==============================] - 2s 3ms/step - loss: 0.0607 - accuracy: 0.6818 - val_loss: 0.0598 - val_accuracy: 0.6906\n",
            "Epoch 74/200\n",
            "469/469 [==============================] - 2s 3ms/step - loss: 0.0602 - accuracy: 0.6845 - val_loss: 0.0593 - val_accuracy: 0.6927\n",
            "Epoch 75/200\n",
            "469/469 [==============================] - 2s 3ms/step - loss: 0.0597 - accuracy: 0.6869 - val_loss: 0.0588 - val_accuracy: 0.6949\n",
            "Epoch 76/200\n",
            "469/469 [==============================] - 2s 4ms/step - loss: 0.0592 - accuracy: 0.6895 - val_loss: 0.0584 - val_accuracy: 0.6982\n",
            "Epoch 77/200\n",
            "469/469 [==============================] - 2s 5ms/step - loss: 0.0588 - accuracy: 0.6917 - val_loss: 0.0579 - val_accuracy: 0.7006\n",
            "Epoch 78/200\n",
            "469/469 [==============================] - 2s 4ms/step - loss: 0.0583 - accuracy: 0.6942 - val_loss: 0.0574 - val_accuracy: 0.7028\n",
            "Epoch 79/200\n",
            "469/469 [==============================] - 2s 4ms/step - loss: 0.0578 - accuracy: 0.6967 - val_loss: 0.0569 - val_accuracy: 0.7038\n",
            "Epoch 80/200\n",
            "469/469 [==============================] - 2s 4ms/step - loss: 0.0574 - accuracy: 0.6990 - val_loss: 0.0565 - val_accuracy: 0.7059\n",
            "Epoch 81/200\n",
            "469/469 [==============================] - 2s 3ms/step - loss: 0.0569 - accuracy: 0.7020 - val_loss: 0.0560 - val_accuracy: 0.7087\n",
            "Epoch 82/200\n",
            "469/469 [==============================] - 2s 3ms/step - loss: 0.0565 - accuracy: 0.7037 - val_loss: 0.0556 - val_accuracy: 0.7122\n",
            "Epoch 83/200\n",
            "469/469 [==============================] - 1s 3ms/step - loss: 0.0560 - accuracy: 0.7064 - val_loss: 0.0551 - val_accuracy: 0.7143\n",
            "Epoch 84/200\n",
            "469/469 [==============================] - 2s 4ms/step - loss: 0.0556 - accuracy: 0.7090 - val_loss: 0.0547 - val_accuracy: 0.7166\n",
            "Epoch 85/200\n",
            "469/469 [==============================] - 2s 4ms/step - loss: 0.0551 - accuracy: 0.7115 - val_loss: 0.0542 - val_accuracy: 0.7196\n",
            "Epoch 86/200\n",
            "469/469 [==============================] - 2s 4ms/step - loss: 0.0547 - accuracy: 0.7135 - val_loss: 0.0538 - val_accuracy: 0.7223\n",
            "Epoch 87/200\n",
            "469/469 [==============================] - 2s 3ms/step - loss: 0.0543 - accuracy: 0.7157 - val_loss: 0.0534 - val_accuracy: 0.7245\n",
            "Epoch 88/200\n",
            "469/469 [==============================] - 2s 3ms/step - loss: 0.0539 - accuracy: 0.7175 - val_loss: 0.0529 - val_accuracy: 0.7281\n",
            "Epoch 89/200\n",
            "469/469 [==============================] - 2s 3ms/step - loss: 0.0534 - accuracy: 0.7200 - val_loss: 0.0525 - val_accuracy: 0.7300\n",
            "Epoch 90/200\n",
            "469/469 [==============================] - 2s 3ms/step - loss: 0.0530 - accuracy: 0.7222 - val_loss: 0.0521 - val_accuracy: 0.7316\n",
            "Epoch 91/200\n",
            "469/469 [==============================] - 2s 4ms/step - loss: 0.0526 - accuracy: 0.7243 - val_loss: 0.0517 - val_accuracy: 0.7342\n",
            "Epoch 92/200\n",
            "469/469 [==============================] - 2s 5ms/step - loss: 0.0522 - accuracy: 0.7259 - val_loss: 0.0513 - val_accuracy: 0.7366\n",
            "Epoch 93/200\n",
            "469/469 [==============================] - 2s 3ms/step - loss: 0.0518 - accuracy: 0.7281 - val_loss: 0.0509 - val_accuracy: 0.7385\n",
            "Epoch 94/200\n",
            "469/469 [==============================] - 2s 4ms/step - loss: 0.0514 - accuracy: 0.7304 - val_loss: 0.0505 - val_accuracy: 0.7392\n",
            "Epoch 95/200\n",
            "469/469 [==============================] - 2s 3ms/step - loss: 0.0510 - accuracy: 0.7323 - val_loss: 0.0501 - val_accuracy: 0.7417\n",
            "Epoch 96/200\n",
            "469/469 [==============================] - 2s 3ms/step - loss: 0.0506 - accuracy: 0.7340 - val_loss: 0.0497 - val_accuracy: 0.7434\n",
            "Epoch 97/200\n",
            "469/469 [==============================] - 2s 3ms/step - loss: 0.0503 - accuracy: 0.7357 - val_loss: 0.0493 - val_accuracy: 0.7456\n",
            "Epoch 98/200\n",
            "469/469 [==============================] - 2s 3ms/step - loss: 0.0499 - accuracy: 0.7373 - val_loss: 0.0490 - val_accuracy: 0.7475\n",
            "Epoch 99/200\n",
            "469/469 [==============================] - 2s 4ms/step - loss: 0.0495 - accuracy: 0.7390 - val_loss: 0.0486 - val_accuracy: 0.7493\n",
            "Epoch 100/200\n",
            "469/469 [==============================] - 2s 4ms/step - loss: 0.0492 - accuracy: 0.7404 - val_loss: 0.0482 - val_accuracy: 0.7506\n",
            "Epoch 101/200\n",
            "469/469 [==============================] - 1s 3ms/step - loss: 0.0488 - accuracy: 0.7419 - val_loss: 0.0479 - val_accuracy: 0.7519\n",
            "Epoch 102/200\n",
            "469/469 [==============================] - 2s 3ms/step - loss: 0.0484 - accuracy: 0.7435 - val_loss: 0.0475 - val_accuracy: 0.7531\n",
            "Epoch 103/200\n",
            "469/469 [==============================] - 2s 4ms/step - loss: 0.0481 - accuracy: 0.7448 - val_loss: 0.0472 - val_accuracy: 0.7544\n",
            "Epoch 104/200\n",
            "469/469 [==============================] - 2s 4ms/step - loss: 0.0478 - accuracy: 0.7465 - val_loss: 0.0468 - val_accuracy: 0.7560\n",
            "Epoch 105/200\n",
            "469/469 [==============================] - 1s 3ms/step - loss: 0.0474 - accuracy: 0.7480 - val_loss: 0.0465 - val_accuracy: 0.7571\n",
            "Epoch 106/200\n",
            "469/469 [==============================] - 2s 4ms/step - loss: 0.0471 - accuracy: 0.7489 - val_loss: 0.0462 - val_accuracy: 0.7586\n",
            "Epoch 107/200\n",
            "469/469 [==============================] - 2s 5ms/step - loss: 0.0467 - accuracy: 0.7500 - val_loss: 0.0458 - val_accuracy: 0.7600\n",
            "Epoch 108/200\n",
            "469/469 [==============================] - 2s 3ms/step - loss: 0.0464 - accuracy: 0.7513 - val_loss: 0.0455 - val_accuracy: 0.7615\n",
            "Epoch 109/200\n",
            "469/469 [==============================] - 2s 3ms/step - loss: 0.0461 - accuracy: 0.7526 - val_loss: 0.0452 - val_accuracy: 0.7627\n",
            "Epoch 110/200\n",
            "469/469 [==============================] - 2s 4ms/step - loss: 0.0458 - accuracy: 0.7536 - val_loss: 0.0449 - val_accuracy: 0.7640\n",
            "Epoch 111/200\n",
            "469/469 [==============================] - 2s 4ms/step - loss: 0.0455 - accuracy: 0.7549 - val_loss: 0.0446 - val_accuracy: 0.7650\n",
            "Epoch 112/200\n",
            "469/469 [==============================] - 2s 3ms/step - loss: 0.0452 - accuracy: 0.7560 - val_loss: 0.0442 - val_accuracy: 0.7661\n",
            "Epoch 113/200\n",
            "469/469 [==============================] - 2s 3ms/step - loss: 0.0449 - accuracy: 0.7571 - val_loss: 0.0439 - val_accuracy: 0.7671\n",
            "Epoch 114/200\n",
            "469/469 [==============================] - 2s 4ms/step - loss: 0.0446 - accuracy: 0.7588 - val_loss: 0.0436 - val_accuracy: 0.7675\n",
            "Epoch 115/200\n",
            "469/469 [==============================] - 2s 4ms/step - loss: 0.0443 - accuracy: 0.7596 - val_loss: 0.0434 - val_accuracy: 0.7682\n",
            "Epoch 116/200\n",
            "469/469 [==============================] - 2s 4ms/step - loss: 0.0440 - accuracy: 0.7607 - val_loss: 0.0431 - val_accuracy: 0.7691\n",
            "Epoch 117/200\n",
            "469/469 [==============================] - 2s 4ms/step - loss: 0.0437 - accuracy: 0.7616 - val_loss: 0.0428 - val_accuracy: 0.7704\n",
            "Epoch 118/200\n",
            "469/469 [==============================] - 2s 3ms/step - loss: 0.0434 - accuracy: 0.7629 - val_loss: 0.0425 - val_accuracy: 0.7715\n",
            "Epoch 119/200\n",
            "469/469 [==============================] - 2s 3ms/step - loss: 0.0431 - accuracy: 0.7641 - val_loss: 0.0422 - val_accuracy: 0.7732\n",
            "Epoch 120/200\n",
            "469/469 [==============================] - 2s 4ms/step - loss: 0.0428 - accuracy: 0.7653 - val_loss: 0.0419 - val_accuracy: 0.7750\n",
            "Epoch 121/200\n",
            "469/469 [==============================] - 2s 4ms/step - loss: 0.0426 - accuracy: 0.7665 - val_loss: 0.0417 - val_accuracy: 0.7759\n",
            "Epoch 122/200\n",
            "469/469 [==============================] - 2s 4ms/step - loss: 0.0423 - accuracy: 0.7674 - val_loss: 0.0414 - val_accuracy: 0.7770\n",
            "Epoch 123/200\n",
            "469/469 [==============================] - 1s 3ms/step - loss: 0.0420 - accuracy: 0.7684 - val_loss: 0.0411 - val_accuracy: 0.7783\n",
            "Epoch 124/200\n",
            "469/469 [==============================] - 2s 4ms/step - loss: 0.0418 - accuracy: 0.7697 - val_loss: 0.0409 - val_accuracy: 0.7798\n",
            "Epoch 125/200\n",
            "469/469 [==============================] - 1s 3ms/step - loss: 0.0415 - accuracy: 0.7712 - val_loss: 0.0406 - val_accuracy: 0.7814\n",
            "Epoch 126/200\n",
            "469/469 [==============================] - 2s 4ms/step - loss: 0.0413 - accuracy: 0.7723 - val_loss: 0.0403 - val_accuracy: 0.7830\n",
            "Epoch 127/200\n",
            "469/469 [==============================] - 1s 3ms/step - loss: 0.0410 - accuracy: 0.7735 - val_loss: 0.0401 - val_accuracy: 0.7847\n",
            "Epoch 128/200\n",
            "469/469 [==============================] - 2s 3ms/step - loss: 0.0407 - accuracy: 0.7750 - val_loss: 0.0398 - val_accuracy: 0.7860\n",
            "Epoch 129/200\n",
            "469/469 [==============================] - 2s 4ms/step - loss: 0.0405 - accuracy: 0.7768 - val_loss: 0.0396 - val_accuracy: 0.7874\n",
            "Epoch 130/200\n",
            "469/469 [==============================] - 2s 4ms/step - loss: 0.0403 - accuracy: 0.7782 - val_loss: 0.0393 - val_accuracy: 0.7892\n",
            "Epoch 131/200\n",
            "469/469 [==============================] - 1s 3ms/step - loss: 0.0400 - accuracy: 0.7798 - val_loss: 0.0391 - val_accuracy: 0.7902\n",
            "Epoch 132/200\n",
            "469/469 [==============================] - 2s 4ms/step - loss: 0.0398 - accuracy: 0.7817 - val_loss: 0.0389 - val_accuracy: 0.7920\n",
            "Epoch 133/200\n",
            "469/469 [==============================] - 1s 3ms/step - loss: 0.0395 - accuracy: 0.7833 - val_loss: 0.0386 - val_accuracy: 0.7930\n",
            "Epoch 134/200\n",
            "469/469 [==============================] - 2s 4ms/step - loss: 0.0393 - accuracy: 0.7854 - val_loss: 0.0384 - val_accuracy: 0.7950\n",
            "Epoch 135/200\n",
            "469/469 [==============================] - 2s 3ms/step - loss: 0.0391 - accuracy: 0.7866 - val_loss: 0.0382 - val_accuracy: 0.7968\n",
            "Epoch 136/200\n",
            "469/469 [==============================] - 2s 4ms/step - loss: 0.0388 - accuracy: 0.7884 - val_loss: 0.0379 - val_accuracy: 0.7984\n",
            "Epoch 137/200\n",
            "469/469 [==============================] - 2s 4ms/step - loss: 0.0386 - accuracy: 0.7903 - val_loss: 0.0377 - val_accuracy: 0.7990\n",
            "Epoch 138/200\n",
            "469/469 [==============================] - 2s 4ms/step - loss: 0.0384 - accuracy: 0.7923 - val_loss: 0.0375 - val_accuracy: 0.8005\n",
            "Epoch 139/200\n",
            "469/469 [==============================] - 2s 3ms/step - loss: 0.0382 - accuracy: 0.7941 - val_loss: 0.0373 - val_accuracy: 0.8015\n",
            "Epoch 140/200\n",
            "469/469 [==============================] - 2s 3ms/step - loss: 0.0379 - accuracy: 0.7958 - val_loss: 0.0370 - val_accuracy: 0.8040\n",
            "Epoch 141/200\n",
            "469/469 [==============================] - 2s 4ms/step - loss: 0.0377 - accuracy: 0.7978 - val_loss: 0.0368 - val_accuracy: 0.8056\n",
            "Epoch 142/200\n",
            "469/469 [==============================] - 2s 3ms/step - loss: 0.0375 - accuracy: 0.7997 - val_loss: 0.0366 - val_accuracy: 0.8073\n",
            "Epoch 143/200\n",
            "469/469 [==============================] - 1s 3ms/step - loss: 0.0373 - accuracy: 0.8016 - val_loss: 0.0364 - val_accuracy: 0.8098\n",
            "Epoch 144/200\n",
            "469/469 [==============================] - 2s 4ms/step - loss: 0.0371 - accuracy: 0.8032 - val_loss: 0.0362 - val_accuracy: 0.8117\n",
            "Epoch 145/200\n",
            "469/469 [==============================] - 2s 4ms/step - loss: 0.0369 - accuracy: 0.8050 - val_loss: 0.0360 - val_accuracy: 0.8139\n",
            "Epoch 146/200\n",
            "469/469 [==============================] - 2s 3ms/step - loss: 0.0367 - accuracy: 0.8069 - val_loss: 0.0358 - val_accuracy: 0.8160\n",
            "Epoch 147/200\n",
            "469/469 [==============================] - 2s 4ms/step - loss: 0.0365 - accuracy: 0.8090 - val_loss: 0.0356 - val_accuracy: 0.8178\n",
            "Epoch 148/200\n",
            "469/469 [==============================] - 2s 4ms/step - loss: 0.0363 - accuracy: 0.8105 - val_loss: 0.0354 - val_accuracy: 0.8188\n",
            "Epoch 149/200\n",
            "469/469 [==============================] - 2s 3ms/step - loss: 0.0361 - accuracy: 0.8120 - val_loss: 0.0352 - val_accuracy: 0.8197\n",
            "Epoch 150/200\n",
            "469/469 [==============================] - 2s 3ms/step - loss: 0.0359 - accuracy: 0.8135 - val_loss: 0.0350 - val_accuracy: 0.8206\n",
            "Epoch 151/200\n",
            "469/469 [==============================] - 2s 4ms/step - loss: 0.0357 - accuracy: 0.8151 - val_loss: 0.0348 - val_accuracy: 0.8217\n",
            "Epoch 152/200\n",
            "469/469 [==============================] - 2s 4ms/step - loss: 0.0355 - accuracy: 0.8165 - val_loss: 0.0346 - val_accuracy: 0.8227\n",
            "Epoch 153/200\n",
            "469/469 [==============================] - 2s 3ms/step - loss: 0.0353 - accuracy: 0.8181 - val_loss: 0.0344 - val_accuracy: 0.8240\n",
            "Epoch 154/200\n",
            "469/469 [==============================] - 2s 3ms/step - loss: 0.0351 - accuracy: 0.8192 - val_loss: 0.0342 - val_accuracy: 0.8259\n",
            "Epoch 155/200\n",
            "469/469 [==============================] - 2s 3ms/step - loss: 0.0349 - accuracy: 0.8205 - val_loss: 0.0340 - val_accuracy: 0.8269\n",
            "Epoch 156/200\n",
            "469/469 [==============================] - 2s 3ms/step - loss: 0.0347 - accuracy: 0.8220 - val_loss: 0.0338 - val_accuracy: 0.8285\n",
            "Epoch 157/200\n",
            "469/469 [==============================] - 2s 4ms/step - loss: 0.0345 - accuracy: 0.8231 - val_loss: 0.0336 - val_accuracy: 0.8304\n",
            "Epoch 158/200\n",
            "469/469 [==============================] - 2s 3ms/step - loss: 0.0344 - accuracy: 0.8242 - val_loss: 0.0334 - val_accuracy: 0.8318\n",
            "Epoch 159/200\n",
            "469/469 [==============================] - 2s 4ms/step - loss: 0.0342 - accuracy: 0.8260 - val_loss: 0.0333 - val_accuracy: 0.8334\n",
            "Epoch 160/200\n",
            "469/469 [==============================] - 2s 4ms/step - loss: 0.0340 - accuracy: 0.8270 - val_loss: 0.0331 - val_accuracy: 0.8340\n",
            "Epoch 161/200\n",
            "469/469 [==============================] - 1s 3ms/step - loss: 0.0338 - accuracy: 0.8279 - val_loss: 0.0329 - val_accuracy: 0.8353\n",
            "Epoch 162/200\n",
            "469/469 [==============================] - 2s 3ms/step - loss: 0.0337 - accuracy: 0.8289 - val_loss: 0.0327 - val_accuracy: 0.8372\n",
            "Epoch 163/200\n",
            "469/469 [==============================] - 2s 3ms/step - loss: 0.0335 - accuracy: 0.8297 - val_loss: 0.0326 - val_accuracy: 0.8379\n",
            "Epoch 164/200\n",
            "469/469 [==============================] - 2s 3ms/step - loss: 0.0333 - accuracy: 0.8310 - val_loss: 0.0324 - val_accuracy: 0.8388\n",
            "Epoch 165/200\n",
            "469/469 [==============================] - 1s 3ms/step - loss: 0.0332 - accuracy: 0.8319 - val_loss: 0.0322 - val_accuracy: 0.8400\n",
            "Epoch 166/200\n",
            "469/469 [==============================] - 2s 3ms/step - loss: 0.0330 - accuracy: 0.8332 - val_loss: 0.0321 - val_accuracy: 0.8413\n",
            "Epoch 167/200\n",
            "469/469 [==============================] - 2s 4ms/step - loss: 0.0328 - accuracy: 0.8342 - val_loss: 0.0319 - val_accuracy: 0.8417\n",
            "Epoch 168/200\n",
            "469/469 [==============================] - 2s 4ms/step - loss: 0.0327 - accuracy: 0.8352 - val_loss: 0.0317 - val_accuracy: 0.8430\n",
            "Epoch 169/200\n",
            "469/469 [==============================] - 2s 3ms/step - loss: 0.0325 - accuracy: 0.8364 - val_loss: 0.0316 - val_accuracy: 0.8440\n",
            "Epoch 170/200\n",
            "469/469 [==============================] - 2s 4ms/step - loss: 0.0323 - accuracy: 0.8375 - val_loss: 0.0314 - val_accuracy: 0.8448\n",
            "Epoch 171/200\n",
            "469/469 [==============================] - 2s 4ms/step - loss: 0.0322 - accuracy: 0.8381 - val_loss: 0.0313 - val_accuracy: 0.8463\n",
            "Epoch 172/200\n",
            "469/469 [==============================] - 2s 4ms/step - loss: 0.0320 - accuracy: 0.8391 - val_loss: 0.0311 - val_accuracy: 0.8475\n",
            "Epoch 173/200\n",
            "469/469 [==============================] - 2s 3ms/step - loss: 0.0319 - accuracy: 0.8398 - val_loss: 0.0310 - val_accuracy: 0.8481\n",
            "Epoch 174/200\n",
            "469/469 [==============================] - 2s 4ms/step - loss: 0.0317 - accuracy: 0.8406 - val_loss: 0.0308 - val_accuracy: 0.8493\n",
            "Epoch 175/200\n",
            "469/469 [==============================] - 2s 4ms/step - loss: 0.0316 - accuracy: 0.8413 - val_loss: 0.0307 - val_accuracy: 0.8499\n",
            "Epoch 176/200\n",
            "469/469 [==============================] - 2s 3ms/step - loss: 0.0314 - accuracy: 0.8421 - val_loss: 0.0305 - val_accuracy: 0.8504\n",
            "Epoch 177/200\n",
            "469/469 [==============================] - 2s 3ms/step - loss: 0.0313 - accuracy: 0.8428 - val_loss: 0.0304 - val_accuracy: 0.8513\n",
            "Epoch 178/200\n",
            "469/469 [==============================] - 2s 3ms/step - loss: 0.0311 - accuracy: 0.8434 - val_loss: 0.0302 - val_accuracy: 0.8519\n",
            "Epoch 179/200\n",
            "469/469 [==============================] - 2s 4ms/step - loss: 0.0310 - accuracy: 0.8440 - val_loss: 0.0301 - val_accuracy: 0.8525\n",
            "Epoch 180/200\n",
            "469/469 [==============================] - 2s 3ms/step - loss: 0.0309 - accuracy: 0.8446 - val_loss: 0.0299 - val_accuracy: 0.8533\n",
            "Epoch 181/200\n",
            "469/469 [==============================] - 2s 3ms/step - loss: 0.0307 - accuracy: 0.8454 - val_loss: 0.0298 - val_accuracy: 0.8537\n",
            "Epoch 182/200\n",
            "469/469 [==============================] - 2s 4ms/step - loss: 0.0306 - accuracy: 0.8461 - val_loss: 0.0297 - val_accuracy: 0.8540\n",
            "Epoch 183/200\n",
            "469/469 [==============================] - 2s 4ms/step - loss: 0.0304 - accuracy: 0.8468 - val_loss: 0.0295 - val_accuracy: 0.8552\n",
            "Epoch 184/200\n",
            "469/469 [==============================] - 2s 3ms/step - loss: 0.0303 - accuracy: 0.8472 - val_loss: 0.0294 - val_accuracy: 0.8557\n",
            "Epoch 185/200\n",
            "469/469 [==============================] - 2s 3ms/step - loss: 0.0302 - accuracy: 0.8478 - val_loss: 0.0293 - val_accuracy: 0.8560\n",
            "Epoch 186/200\n",
            "469/469 [==============================] - 2s 4ms/step - loss: 0.0300 - accuracy: 0.8485 - val_loss: 0.0291 - val_accuracy: 0.8565\n",
            "Epoch 187/200\n",
            "469/469 [==============================] - 2s 3ms/step - loss: 0.0299 - accuracy: 0.8489 - val_loss: 0.0290 - val_accuracy: 0.8574\n",
            "Epoch 188/200\n",
            "469/469 [==============================] - 2s 3ms/step - loss: 0.0298 - accuracy: 0.8493 - val_loss: 0.0289 - val_accuracy: 0.8580\n",
            "Epoch 189/200\n",
            "469/469 [==============================] - 2s 4ms/step - loss: 0.0296 - accuracy: 0.8500 - val_loss: 0.0287 - val_accuracy: 0.8588\n",
            "Epoch 190/200\n",
            "469/469 [==============================] - 2s 4ms/step - loss: 0.0295 - accuracy: 0.8506 - val_loss: 0.0286 - val_accuracy: 0.8598\n",
            "Epoch 191/200\n",
            "469/469 [==============================] - 2s 3ms/step - loss: 0.0294 - accuracy: 0.8513 - val_loss: 0.0285 - val_accuracy: 0.8601\n",
            "Epoch 192/200\n",
            "469/469 [==============================] - 2s 4ms/step - loss: 0.0293 - accuracy: 0.8518 - val_loss: 0.0284 - val_accuracy: 0.8606\n",
            "Epoch 193/200\n",
            "469/469 [==============================] - 2s 3ms/step - loss: 0.0292 - accuracy: 0.8523 - val_loss: 0.0282 - val_accuracy: 0.8610\n",
            "Epoch 194/200\n",
            "469/469 [==============================] - 2s 3ms/step - loss: 0.0290 - accuracy: 0.8527 - val_loss: 0.0281 - val_accuracy: 0.8613\n",
            "Epoch 195/200\n",
            "469/469 [==============================] - 2s 3ms/step - loss: 0.0289 - accuracy: 0.8533 - val_loss: 0.0280 - val_accuracy: 0.8618\n",
            "Epoch 196/200\n",
            "469/469 [==============================] - 2s 3ms/step - loss: 0.0288 - accuracy: 0.8540 - val_loss: 0.0279 - val_accuracy: 0.8622\n",
            "Epoch 197/200\n",
            "469/469 [==============================] - 2s 4ms/step - loss: 0.0287 - accuracy: 0.8543 - val_loss: 0.0278 - val_accuracy: 0.8625\n",
            "Epoch 198/200\n",
            "469/469 [==============================] - 2s 4ms/step - loss: 0.0286 - accuracy: 0.8548 - val_loss: 0.0277 - val_accuracy: 0.8631\n",
            "Epoch 199/200\n",
            "469/469 [==============================] - 2s 4ms/step - loss: 0.0285 - accuracy: 0.8552 - val_loss: 0.0275 - val_accuracy: 0.8633\n",
            "Epoch 200/200\n",
            "469/469 [==============================] - 2s 3ms/step - loss: 0.0283 - accuracy: 0.8557 - val_loss: 0.0274 - val_accuracy: 0.8639\n"
          ]
        }
      ]
    },
    {
      "cell_type": "markdown",
      "metadata": {
        "id": "8AJ6owdTR1UA"
      },
      "source": [
        "### Plot learning curves"
      ]
    },
    {
      "cell_type": "code",
      "metadata": {
        "id": "QF8qu8ByR314",
        "colab": {
          "base_uri": "https://localhost:8080/",
          "height": 944
        },
        "outputId": "578c26eb-68cc-41b8-a265-ba17557ee576"
      },
      "source": [
        "# list all data in history\n",
        "print(history.history.keys())\n",
        "\n",
        "# summarize history for accuracy\n",
        "plt.plot(history.history['accuracy'])\n",
        "plt.plot(history.history['val_accuracy'])\n",
        "plt.title('model accuracy')\n",
        "plt.ylabel('accuracy')\n",
        "plt.xlabel('epoch')\n",
        "plt.legend(['train', 'validation'], loc='upper left')\n",
        "plt.show()\n",
        "\n",
        "# summarize history for loss\n",
        "plt.plot(history.history['loss'])\n",
        "plt.plot(history.history['val_loss'])\n",
        "plt.title('model loss')\n",
        "plt.ylabel('loss')\n",
        "plt.xlabel('epoch')\n",
        "plt.legend(['train', 'validation'], loc='upper left')\n",
        "plt.show()"
      ],
      "execution_count": null,
      "outputs": [
        {
          "output_type": "stream",
          "name": "stdout",
          "text": [
            "dict_keys(['loss', 'accuracy', 'val_loss', 'val_accuracy'])\n"
          ]
        },
        {
          "output_type": "display_data",
          "data": {
            "text/plain": [
              "<Figure size 640x480 with 1 Axes>"
            ],
            "image/png": "[encoded data removed]"
          },
          "metadata": {}
        },
        {
          "output_type": "display_data",
          "data": {
            "text/plain": [
              "<Figure size 640x480 with 1 Axes>"
            ],
            "image/png": "[encoded data removed]"
          },
          "metadata": {}
        }
      ]
    },
    {
      "cell_type": "markdown",
      "metadata": {
        "id": "763bQLbzQmw4"
      },
      "source": [
        "### Evaluate the model"
      ]
    },
    {
      "cell_type": "code",
      "metadata": {
        "id": "2siGhXrm-6rb",
        "colab": {
          "base_uri": "https://localhost:8080/"
        },
        "outputId": "ea232d31-1158-4593-bc08-96c5f917f5b6"
      },
      "source": [
        "model.evaluate(X_validation, y_validation)"
      ],
      "execution_count": null,
      "outputs": [
        {
          "output_type": "stream",
          "name": "stdout",
          "text": [
            "313/313 [==============================] - 1s 2ms/step - loss: 0.0274 - accuracy: 0.8639\n"
          ]
        },
        {
          "output_type": "execute_result",
          "data": {
            "text/plain": [
              "[0.02743183821439743, 0.8639000058174133]"
            ]
          },
          "metadata": {},
          "execution_count": 22
        }
      ]
    },
    {
      "cell_type": "markdown",
      "source": [
        "## **PART 1** - *Your Turn* "
      ],
      "metadata": {
        "id": "cFfmkCZ-N1lM"
      }
    },
    {
      "cell_type": "markdown",
      "source": [
        "### **Part 1 - Tasks:**  *(40 pts)*\n",
        "1. Write code to display the confusion matrix for your classifier and comment on the insights such confusion matrix provides. See [this](https://scikit-learn.org/stable/auto_examples/classification/plot_digits_classification.html) for an example.\n",
        "\n",
        "2. Write code to display 10 cases where the classifier makes mistakes. Make sure to display both the true value as well as the predicted value."
      ],
      "metadata": {
        "id": "lRWMcw5HOJDr"
      }
    },
    {
      "cell_type": "markdown",
      "source": [
        "#### 1.a. Confusion Matrix *(10 pts)*"
      ],
      "metadata": {
        "id": "eUQnhnk4bsuk"
      }
    },
    {
      "cell_type": "code",
      "source": [
        "# Your Confusion Matrix code here and in additional cells as needed\n"
      ],
      "metadata": {
        "id": "zAtq58hePWPy"
      },
      "execution_count": null,
      "outputs": []
    },
    {
      "cell_type": "markdown",
      "source": [
        "#### 1.b. Comment on the insights confusion matrix provides *(10 pts)*"
      ],
      "metadata": {
        "id": "IPh2wMtAb00B"
      }
    },
    {
      "cell_type": "markdown",
      "source": [],
      "metadata": {
        "id": "iN8Brv58b-RL"
      }
    },
    {
      "cell_type": "markdown",
      "source": [
        "#### 2.Display 10 cases where the classifier makes mistakes. *(20 pts)*"
      ],
      "metadata": {
        "id": "w-3gs_uqcHll"
      }
    },
    {
      "cell_type": "code",
      "source": [
        "# Your code here and in additional cells as needed"
      ],
      "metadata": {
        "id": "h2qgIuivcQpQ"
      },
      "execution_count": null,
      "outputs": []
    },
    {
      "cell_type": "markdown",
      "metadata": {
        "id": "a7O3lpDxUsmT"
      },
      "source": [
        "## PART 2 - *Fashion MNIST*\n",
        "\n",
        "\n"
      ]
    },
    {
      "cell_type": "markdown",
      "metadata": {
        "id": "Lmobz-vfUsmu"
      },
      "source": [
        "### Load and prepare the data"
      ]
    },
    {
      "cell_type": "code",
      "source": [
        "# Model / data parameters\n",
        "num_classes = 10\n",
        "input_shape = [28 ,28]"
      ],
      "metadata": {
        "id": "7tiUAea0YgGn"
      },
      "execution_count": null,
      "outputs": []
    },
    {
      "cell_type": "code",
      "source": [
        "# Loading and Spliting Data in Test and Train \n",
        "(X_train, y_train), (X_valid, y_valid) = tf.keras.datasets.fashion_mnist.load_data()\n",
        "assert X_train.shape == (60000, 28, 28)\n",
        "assert X_valid.shape == (10000, 28, 28)\n",
        "assert y_train.shape == (60000,)\n",
        "assert y_valid.shape == (10000,)"
      ],
      "metadata": {
        "id": "9WuYpbzKVb52",
        "colab": {
          "base_uri": "https://localhost:8080/"
        },
        "outputId": "297073c9-9bce-4950-c285-c34ff0104803"
      },
      "execution_count": null,
      "outputs": [
        {
          "output_type": "stream",
          "name": "stdout",
          "text": [
            "Downloading data from https://storage.googleapis.com/tensorflow/tf-keras-datasets/train-labels-idx1-ubyte.gz\n",
            "29515/29515 [==============================] - 0s 1us/step\n",
            "Downloading data from https://storage.googleapis.com/tensorflow/tf-keras-datasets/train-images-idx3-ubyte.gz\n",
            "26421880/26421880 [==============================] - 2s 0us/step\n",
            "Downloading data from https://storage.googleapis.com/tensorflow/tf-keras-datasets/t10k-labels-idx1-ubyte.gz\n",
            "5148/5148 [==============================] - 0s 0us/step\n",
            "Downloading data from https://storage.googleapis.com/tensorflow/tf-keras-datasets/t10k-images-idx3-ubyte.gz\n",
            "4422102/4422102 [==============================] - 1s 0us/step\n"
          ]
        }
      ]
    },
    {
      "cell_type": "markdown",
      "source": [
        "### Defining Classes"
      ],
      "metadata": {
        "id": "SJLgwT4BVsXJ"
      }
    },
    {
      "cell_type": "code",
      "source": [
        "classes_names = ['T-shirt/top' ,  'Trouser' ,'Pullover' , 'Dress', 'Coat','Sandal','Shirt','Sneaker', 'Bag','Ankle Boot'] "
      ],
      "metadata": {
        "id": "_Vtsr209Vs7I"
      },
      "execution_count": null,
      "outputs": []
    },
    {
      "cell_type": "markdown",
      "source": [
        "### Examine Data"
      ],
      "metadata": {
        "id": "mk5jfFGpUsm4"
      }
    },
    {
      "cell_type": "code",
      "metadata": {
        "colab": {
          "base_uri": "https://localhost:8080/"
        },
        "outputId": "62624b08-39c2-4a54-af93-978dbbc31734",
        "id": "bqDnQHxBUsmv"
      },
      "source": [
        "X_train.shape"
      ],
      "execution_count": null,
      "outputs": [
        {
          "output_type": "execute_result",
          "data": {
            "text/plain": [
              "(60000, 28, 28)"
            ]
          },
          "metadata": {},
          "execution_count": 28
        }
      ]
    },
    {
      "cell_type": "code",
      "metadata": {
        "colab": {
          "base_uri": "https://localhost:8080/"
        },
        "outputId": "947a64e9-6de7-47e3-f28d-40a6913b90bd",
        "id": "f3-vq-ddUsmw"
      },
      "source": [
        "y_valid.shape"
      ],
      "execution_count": null,
      "outputs": [
        {
          "output_type": "execute_result",
          "data": {
            "text/plain": [
              "(10000,)"
            ]
          },
          "metadata": {},
          "execution_count": 29
        }
      ]
    },
    {
      "cell_type": "code",
      "metadata": {
        "colab": {
          "base_uri": "https://localhost:8080/"
        },
        "outputId": "e7bb7b4e-7283-4781-989a-c3a7ca05b398",
        "id": "7bm5DzZ5Usmx"
      },
      "source": [
        "y_train[0:12]"
      ],
      "execution_count": null,
      "outputs": [
        {
          "output_type": "execute_result",
          "data": {
            "text/plain": [
              "array([9, 0, 0, 3, 0, 2, 7, 2, 5, 5, 0, 9], dtype=uint8)"
            ]
          },
          "metadata": {},
          "execution_count": 30
        }
      ]
    },
    {
      "cell_type": "code",
      "metadata": {
        "colab": {
          "base_uri": "https://localhost:8080/",
          "height": 447
        },
        "outputId": "60aadf39-24db-4195-a795-f87d88f5cd7a",
        "id": "vBSF0061Usmy"
      },
      "source": [
        "plt.figure(figsize=(5,5))\n",
        "for k in range(12):\n",
        "    plt.subplot(3, 4, k+1)\n",
        "    plt.imshow(X_train[k], cmap='Greys')\n",
        "    plt.axis('off')\n",
        "plt.tight_layout()\n",
        "plt.show()"
      ],
      "execution_count": null,
      "outputs": [
        {
          "output_type": "display_data",
          "data": {
            "text/plain": [
              "<Figure size 500x500 with 12 Axes>"
            ],
            "image/png": "[encoded data removed]"
          },
          "metadata": {}
        }
      ]
    },
    {
      "cell_type": "code",
      "metadata": {
        "colab": {
          "base_uri": "https://localhost:8080/"
        },
        "outputId": "ad8c64c4-38c6-4536-cf4f-067bb3d065c7",
        "id": "4ZFhStimUsmz"
      },
      "source": [
        "X_valid.shape"
      ],
      "execution_count": null,
      "outputs": [
        {
          "output_type": "execute_result",
          "data": {
            "text/plain": [
              "(10000, 28, 28)"
            ]
          },
          "metadata": {},
          "execution_count": 32
        }
      ]
    },
    {
      "cell_type": "code",
      "metadata": {
        "colab": {
          "base_uri": "https://localhost:8080/"
        },
        "outputId": "3d017450-f1d4-4306-fe33-791a5f93dd41",
        "id": "fkcVKlIdUsm0"
      },
      "source": [
        "y_valid.shape"
      ],
      "execution_count": null,
      "outputs": [
        {
          "output_type": "execute_result",
          "data": {
            "text/plain": [
              "(10000,)"
            ]
          },
          "metadata": {},
          "execution_count": 33
        }
      ]
    },
    {
      "cell_type": "code",
      "metadata": {
        "colab": {
          "base_uri": "https://localhost:8080/"
        },
        "outputId": "3c0a048a-4cb8-4bb6-cfc6-122f0761d6e2",
        "id": "Z2pxEjaSUsm0"
      },
      "source": [
        "y_valid[0]"
      ],
      "execution_count": null,
      "outputs": [
        {
          "output_type": "execute_result",
          "data": {
            "text/plain": [
              "9"
            ]
          },
          "metadata": {},
          "execution_count": 34
        }
      ]
    },
    {
      "cell_type": "code",
      "metadata": {
        "colab": {
          "base_uri": "https://localhost:8080/",
          "height": 406
        },
        "outputId": "73eae501-9d5f-481b-b71c-740723ae7896",
        "id": "pBxa15BlUsm1"
      },
      "source": [
        "plt.imshow(X_valid[0], cmap='Greys')\n",
        "plt.axis('off')\n",
        "plt.show()"
      ],
      "execution_count": null,
      "outputs": [
        {
          "output_type": "display_data",
          "data": {
            "text/plain": [
              "<Figure size 640x480 with 1 Axes>"
            ],
            "image/png": "[encoded data removed]"
          },
          "metadata": {}
        }
      ]
    },
    {
      "cell_type": "code",
      "source": [
        "# Reshape (flatten) images \n",
        "X_train_reshaped = X_train.reshape(60000, 784).astype('float32')\n",
        "X_valid_reshaped = X_valid.reshape(10000, 784).astype('float32')\n",
        "\n",
        "# Scale images to the [0, 1] range\n",
        "X_train_scaled_reshaped = X_train_reshaped / 255\n",
        "X_valid_scaled_reshaped = X_valid_reshaped / 255\n",
        "\n",
        "# Renaming for conciseness\n",
        "X_training = X_train_scaled_reshaped\n",
        "X_validation = X_valid_scaled_reshaped\n",
        "\n",
        "print(\"X_training shape (after reshaping + scaling):\", X_training.shape)\n",
        "print(X_training.shape[0], \"train samples\")\n",
        "print(\"X_validation shape (after reshaping + scaling):\", X_validation.shape)\n",
        "print(X_validation.shape[0], \"validation samples\")"
      ],
      "metadata": {
        "colab": {
          "base_uri": "https://localhost:8080/"
        },
        "id": "Y1uqe2qNvzTX",
        "outputId": "3e1e111f-ab19-409b-91de-720ed4ab728b"
      },
      "execution_count": null,
      "outputs": [
        {
          "output_type": "stream",
          "name": "stdout",
          "text": [
            "X_training shape (after reshaping + scaling): (60000, 784)\n",
            "60000 train samples\n",
            "X_validation shape (after reshaping + scaling): (10000, 784)\n",
            "10000 validation samples\n"
          ]
        }
      ]
    },
    {
      "cell_type": "code",
      "metadata": {
        "id": "j77kPrf9Usm3"
      },
      "source": [
        "# convert class vectors to binary class matrices\n",
        "y_training = keras.utils.to_categorical(y_train, num_classes)\n",
        "y_validation = keras.utils.to_categorical(y_valid, num_classes)"
      ],
      "execution_count": null,
      "outputs": []
    },
    {
      "cell_type": "code",
      "metadata": {
        "colab": {
          "base_uri": "https://localhost:8080/"
        },
        "outputId": "9478dfa8-32be-4127-b19d-0a3ad26e9aa6",
        "id": "7K4nOvY8Usm3"
      },
      "source": [
        "print(y_valid[0])\n",
        "print(y_validation[0])"
      ],
      "execution_count": null,
      "outputs": [
        {
          "output_type": "stream",
          "name": "stdout",
          "text": [
            "9\n",
            "[0. 0. 0. 0. 0. 0. 0. 0. 0. 1.]\n"
          ]
        }
      ]
    },
    {
      "cell_type": "markdown",
      "source": [
        "## **PART 2** - *Your Turn*"
      ],
      "metadata": {
        "id": "tTPfK-zFOAfi"
      }
    },
    {
      "cell_type": "markdown",
      "source": [
        "### **Part 2 - Tasks:** *(60 pts)*\n",
        "Build a NN solution identical to the one before: *(20 pts)*\n",
        "> a. Plot learning curves *(10 pts)*\n",
        "\n",
        "> b. Display the confusion matrix for your classifier *(10 pts)*\n",
        "\n",
        "> c. Evaluate the model, identify accuracy, etc. *(10 pts)*\n",
        "\n",
        "> d. Discuss why the results are not as good. *(10 pts)*\n",
        "\n",
        "\n",
        "\n"
      ],
      "metadata": {
        "id": "37Jfa71GO-o3"
      }
    },
    {
      "cell_type": "markdown",
      "source": [
        "#### NN solution *(20 pts)*"
      ],
      "metadata": {
        "id": "wfynsAmuRHhR"
      }
    },
    {
      "cell_type": "markdown",
      "source": [
        "Configure the Model *(10 pts)*"
      ],
      "metadata": {
        "id": "0S1JKBzLkHCq"
      }
    },
    {
      "cell_type": "code",
      "source": [
        "# Your Configure the Model code here and in additional code cells as needed\n",
        "# use same model and hyperparameters as was used for MNIST above\n"
      ],
      "metadata": {
        "id": "ebaDH_ltkQ4K"
      },
      "execution_count": null,
      "outputs": []
    },
    {
      "cell_type": "markdown",
      "source": [
        "Train the Model  *(10 pts)*"
      ],
      "metadata": {
        "id": "0wVjOdUhkETu"
      }
    },
    {
      "cell_type": "code",
      "source": [
        "# Your Train the Model code here and in additional code cells as needed\n",
        "# same as was used in MNIST above\n"
      ],
      "metadata": {
        "id": "r265wxucPLZQ"
      },
      "execution_count": null,
      "outputs": []
    },
    {
      "cell_type": "markdown",
      "source": [
        "#### Plot learning curves *(10 pts)*"
      ],
      "metadata": {
        "id": "4WJQiEh4RXEH"
      }
    },
    {
      "cell_type": "code",
      "source": [
        "# Your Plot learning curves code here and in additional code cells as needed\n"
      ],
      "metadata": {
        "id": "M-TWkVPHRXEl"
      },
      "execution_count": null,
      "outputs": []
    },
    {
      "cell_type": "markdown",
      "source": [
        "#### Display the confusion matrix for your classifier *(10 pts)*"
      ],
      "metadata": {
        "id": "CGjUQY-oRXlX"
      }
    },
    {
      "cell_type": "code",
      "source": [
        "# Your confusion matrix code here and in additional code cells as needed\n"
      ],
      "metadata": {
        "id": "KgLleoqYRXlX"
      },
      "execution_count": null,
      "outputs": []
    },
    {
      "cell_type": "markdown",
      "source": [
        "#### Evaluate the model, identify accuracy, etc. *(10 pts)*"
      ],
      "metadata": {
        "id": "4__FfaTFRlNh"
      }
    },
    {
      "cell_type": "code",
      "source": [
        "# Your Evaluate the model code here and in additional code cells as needed\n"
      ],
      "metadata": {
        "id": "PZCY7q7ORlN4"
      },
      "execution_count": null,
      "outputs": []
    },
    {
      "cell_type": "markdown",
      "source": [
        "#### Discuss why the results are not as good. \n",
        "\n",
        "If you had more time what would you do to improve the results? *(10 pts)*"
      ],
      "metadata": {
        "id": "Os2Av7zxRmFF"
      }
    },
    {
      "cell_type": "markdown",
      "source": [],
      "metadata": {
        "id": "dmNB2iVJRuXx"
      }
    },
    {
      "cell_type": "code",
      "source": [
        "# (OPTIONAL) Additional code to demonstrate possible improvements to the model in Part 2."
      ],
      "metadata": {
        "id": "8vbWpIQPP7_b"
      },
      "execution_count": null,
      "outputs": []
    }
  ]
}